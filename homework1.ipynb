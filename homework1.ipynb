{
 "cells": [
  {
   "cell_type": "markdown",
   "id": "69a30f6f",
   "metadata": {},
   "source": [
    "This is  Homework  on Car_fuel_efficiency from DataTalkclub "
   ]
  },
  {
   "cell_type": "code",
   "execution_count": null,
   "id": "1cee5857",
   "metadata": {},
   "outputs": [],
   "source": [
    "import pandas as pd\n",
    "import numpy as np\n",
    "\n",
    "df = pd.read_csv('C:/Users/User/Desktop/Python_ML/Dataset/car_fuel_efficiency.csv')\n",
    "print(df.head())"
   ]
  },
  {
   "cell_type": "code",
   "execution_count": 5,
   "id": "8787ae62",
   "metadata": {},
   "outputs": [
    {
     "data": {
      "text/plain": [
       "'2.3.2'"
      ]
     },
     "execution_count": 5,
     "metadata": {},
     "output_type": "execute_result"
    }
   ],
   "source": [
    "pd.__version__"
   ]
  },
  {
   "cell_type": "code",
   "execution_count": 6,
   "id": "84a64a57",
   "metadata": {},
   "outputs": [
    {
     "name": "stdout",
     "output_type": "stream",
     "text": [
      "9704\n",
      "9704\n"
     ]
    }
   ],
   "source": [
    "# Option 1: Using shape to get total number of records \n",
    "print(df.shape[0])\n",
    "# Option 2: Using len() to get total number of records\n",
    "print(len(df))"
   ]
  },
  {
   "cell_type": "code",
   "execution_count": 8,
   "id": "6882db10",
   "metadata": {},
   "outputs": [
    {
     "name": "stdout",
     "output_type": "stream",
     "text": [
      "2\n",
      "['Gasoline' 'Diesel']\n"
     ]
    }
   ],
   "source": [
    "# Replace 'fuel_type' with the actual column name if different\n",
    "print(df['fuel_type'].nunique())\n",
    "\n",
    "print(df['fuel_type'].unique())"
   ]
  },
  {
   "cell_type": "code",
   "execution_count": 10,
   "id": "6cc4affd",
   "metadata": {},
   "outputs": [
    {
     "name": "stdout",
     "output_type": "stream",
     "text": [
      "4\n",
      "num_cylinders    482\n",
      "horsepower       708\n",
      "acceleration     930\n",
      "num_doors        502\n",
      "dtype: int64\n"
     ]
    }
   ],
   "source": [
    "# Count columns with at least one missing value\n",
    "missing_columns = df.isnull().sum()\n",
    "print((missing_columns > 0).sum())\n",
    "\n",
    "print(missing_columns[missing_columns > 0])"
   ]
  },
  {
   "cell_type": "code",
   "execution_count": 12,
   "id": "c9183498",
   "metadata": {},
   "outputs": [
    {
     "name": "stdout",
     "output_type": "stream",
     "text": [
      "23.759122836520497\n"
     ]
    }
   ],
   "source": [
    "# What's the maximum fuel efficiency of cars from Asia?\n",
    "# Filter for cars from Asia and get the maximum fuel efficiency\n",
    "max_efficiency = df[df['origin'] == 'Asia']['fuel_efficiency_mpg'].max()\n",
    "print(max_efficiency)"
   ]
  },
  {
   "cell_type": "markdown",
   "id": "80a4cc1f",
   "metadata": {},
   "source": [
    "these are codes for some series of questions"
   ]
  },
  {
   "cell_type": "code",
   "execution_count": 13,
   "id": "65dbc1b9",
   "metadata": {},
   "outputs": [
    {
     "name": "stdout",
     "output_type": "stream",
     "text": [
      "Median horsepower before filling: 149.0\n"
     ]
    }
   ],
   "source": [
    "# Find the median value of horsepower column\n",
    "median_hp_before = df['horsepower'].median()\n",
    "print(\"Median horsepower before filling:\", median_hp_before)"
   ]
  },
  {
   "cell_type": "code",
   "execution_count": 14,
   "id": "65397495",
   "metadata": {},
   "outputs": [
    {
     "name": "stdout",
     "output_type": "stream",
     "text": [
      "Most frequent horsepower value: 152.0\n"
     ]
    }
   ],
   "source": [
    "# Calculate the most frequent value (mode) of horsepower\n",
    "most_freq_hp = df['horsepower'].mode()[0]\n",
    "print(\"Most frequent horsepower value:\", most_freq_hp)"
   ]
  },
  {
   "cell_type": "code",
   "execution_count": 15,
   "id": "52aee25f",
   "metadata": {},
   "outputs": [],
   "source": [
    "# Fill missing values in horsepower with the most frequent value\n",
    "df['horsepower'] = df['horsepower'].fillna(most_freq_hp)"
   ]
  },
  {
   "cell_type": "code",
   "execution_count": 16,
   "id": "37193242",
   "metadata": {},
   "outputs": [
    {
     "name": "stdout",
     "output_type": "stream",
     "text": [
      "Median horsepower after filling: 152.0\n"
     ]
    }
   ],
   "source": [
    "# Calculate the median value of horsepower again\n",
    "median_hp_after = df['horsepower'].median()\n",
    "print(\"Median horsepower after filling:\", median_hp_after)"
   ]
  },
  {
   "cell_type": "markdown",
   "id": "9894e418",
   "metadata": {},
   "source": [
    "We calculate here sum of weights"
   ]
  },
  {
   "cell_type": "code",
   "execution_count": 23,
   "id": "adc110be",
   "metadata": {},
   "outputs": [
    {
     "name": "stdout",
     "output_type": "stream",
     "text": [
      "Sum of all elements in w: 0.5187709081074016\n"
     ]
    }
   ],
   "source": [
    "# Select all cars from Asia\n",
    "asia_cars = df[df['origin'] == 'Asia']\n",
    "\n",
    "# Select only columns vehicle_weight and model_year only for 7 rows and columns\n",
    "X = asia_cars[['vehicle_weight', 'model_year']].values[:7]\n",
    "\n",
    "# Compute XTX (matrix-matrix multiplication of X.T and X) X.T is the transpose of X. we use @ for matrix multiplication\n",
    "XTX = X.T @ X\n",
    "\n",
    "# Invert XTX\n",
    "XTX_inv = np.linalg.inv(XTX)\n",
    "\n",
    "# Create array y\n",
    "y = np.array([1100, 1300, 800, 900, 1000, 1100, 1200])\n",
    "\n",
    "# Multiply inverse of XTX with transpose of X, then with y\n",
    "w = XTX_inv @ X.T @ y\n",
    "\n",
    "# Sum of all elements of the result\n",
    "sum_w = w.sum()\n",
    "\n",
    "print(\"Sum of all elements in w:\", sum_w)"
   ]
  },
  {
   "cell_type": "markdown",
   "id": "95a197a3",
   "metadata": {},
   "source": []
  }
 ],
 "metadata": {
  "kernelspec": {
   "display_name": "Python 3",
   "language": "python",
   "name": "python3"
  },
  "language_info": {
   "codemirror_mode": {
    "name": "ipython",
    "version": 3
   },
   "file_extension": ".py",
   "mimetype": "text/x-python",
   "name": "python",
   "nbconvert_exporter": "python",
   "pygments_lexer": "ipython3",
   "version": "3.12.5"
  }
 },
 "nbformat": 4,
 "nbformat_minor": 5
}
